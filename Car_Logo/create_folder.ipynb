{
 "cells": [
  {
   "cell_type": "code",
   "execution_count": 1,
   "metadata": {},
   "outputs": [
    {
     "name": "stdout",
     "output_type": "stream",
     "text": [
      "Đã tạo thư mục thành công!\n"
     ]
    }
   ],
   "source": [
    "import pandas as pd\n",
    "import os\n",
    "\n",
    "# Đường dẫn tệp Excel của bạn\n",
    "excel_file = 'Car.xlsx'\n",
    "\n",
    "# Tên sheet trong tệp Excel của bạn\n",
    "sheet_name = 'Sheet1'\n",
    "\n",
    "# Cột chứa tên thư mục trong tệp Excel của bạn\n",
    "column = 'car_name'\n",
    "\n",
    "# Đường dẫn thư mục cha để tạo các thư mục con\n",
    "parent_folder = 'C:/Users/ADMIN/Desktop/Study/Machine Learning/CS114.N21.KHCL/Car_Logo'\n",
    "\n",
    "# Đọc tệp Excel vào DataFrame\n",
    "df = pd.read_excel(excel_file, sheet_name=sheet_name)\n",
    "\n",
    "# Lấy danh sách giá trị từ cột A\n",
    "values = df[column].tolist()\n",
    "\n",
    "# Tạo thư mục từ các giá trị trong danh sách\n",
    "for value in values:\n",
    "    if pd.notnull(value):\n",
    "        folder_path = os.path.join(parent_folder, str(value))\n",
    "        os.makedirs(folder_path, exist_ok=True)\n",
    "\n",
    "print(\"Đã tạo thư mục thành công!\")\n",
    "\n"
   ]
  }
 ],
 "metadata": {
  "kernelspec": {
   "display_name": "Python 3",
   "language": "python",
   "name": "python3"
  },
  "language_info": {
   "codemirror_mode": {
    "name": "ipython",
    "version": 3
   },
   "file_extension": ".py",
   "mimetype": "text/x-python",
   "name": "python",
   "nbconvert_exporter": "python",
   "pygments_lexer": "ipython3",
   "version": "3.10.11"
  },
  "orig_nbformat": 4
 },
 "nbformat": 4,
 "nbformat_minor": 2
}
